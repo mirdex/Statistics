{
 "cells": [
  {
   "cell_type": "markdown",
   "metadata": {
    "slideshow": {
     "slide_type": "slide"
    }
   },
   "source": [
    "# 統計學綱要\n",
    "\n",
    "## ```Da-Wei Chiang```"
   ]
  },
  {
   "cell_type": "markdown",
   "metadata": {
    "slideshow": {
     "slide_type": "slide"
    }
   },
   "source": [
    "### 傳統統計學與大數據分析差別\n",
    "- 傳統統計學(以下簡稱統計學)分為以下兩個部分\n",
    "    - 敘述統計\n",
    "        - 資料的收集、整合、呈現、解釋等分析步驟，以數值、表格、圖示來敘述資料概況的方法\n",
    "    - 推論統計\n",
    "        - 從樣本資料的分析結果對母體資料的某些特性，做合理的估計與推測\n",
    "- 大數據分析\n",
    "    - 21世紀，因為資料量較大，工程界直接以電腦做出各種視覺化並加以分析。\n",
    "    - 目前說的大數據分析是泛指工程界上早已使用大量數據的統計分析，又稱資料科學```(Data Science)```"
   ]
  },
  {
   "cell_type": "markdown",
   "metadata": {
    "slideshow": {
     "slide_type": "slide"
    }
   },
   "source": [
    "- 統計學的專有名詞\n",
    "    - ```母體 : ```擁有共同性質的元素或個體所組成的群體，是分析者所要調查的全體對象集合\n",
    "    - ```樣本 : ```從母體中抽出部分元素所組成的集合，稱為樣本\n",
    "    - ```參數 : ```描述母體特性的統計測量數\n",
    "    - ```統計量 : ```描述樣本特性的測量統計量\n",
    "    - ```抽樣 : ```一種程序或方法，說明如何從母體抽出樣本\n",
    "    - ```實驗 : ```對某種個體做特別處理，以期觀察其反應\n",
    "    - ```普查 : ```針對整個母體進行調查"
   ]
  },
  {
   "cell_type": "markdown",
   "metadata": {
    "slideshow": {
     "slide_type": "slide"
    }
   },
   "source": [
    "- 資料的種類\n",
    "    - 資料的型態\n",
    "        - 定性(類別資料、不可測量)資料\n",
    "            - ```名目尺度 : 血型(A、B、O、AB)```\n",
    "            - ```順序尺度 : 喜好程度(非常喜歡、喜歡、普通、不喜歡、非常不喜歡)```\n",
    "        - 定量(數值資料、可測量)資料\n",
    "            - ```區間尺度(數值之間差異有意義) : 溫度、衣服尺碼```\n",
    "            - ```比例尺度(0與比值有意義) : 人數、收入```\n",
    "    - 資料的性質\n",
    "        - 離散型資料\n",
    "        - 連續型資料"
   ]
  }
 ],
 "metadata": {
  "celltoolbar": "Slideshow",
  "kernelspec": {
   "display_name": "Python 3",
   "language": "python",
   "name": "python3"
  },
  "language_info": {
   "codemirror_mode": {
    "name": "ipython",
    "version": 3
   },
   "file_extension": ".py",
   "mimetype": "text/x-python",
   "name": "python",
   "nbconvert_exporter": "python",
   "pygments_lexer": "ipython3",
   "version": "3.6.1"
  }
 },
 "nbformat": 4,
 "nbformat_minor": 2
}
