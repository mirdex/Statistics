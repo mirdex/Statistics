{
 "cells": [
  {
   "cell_type": "markdown",
   "metadata": {
    "slideshow": {
     "slide_type": "slide"
    }
   },
   "source": [
    "# 各類常用圖表\n",
    "\n",
    "## ```Da-Wei Chiang```"
   ]
  },
  {
   "cell_type": "markdown",
   "metadata": {
    "slideshow": {
     "slide_type": "slide"
    }
   },
   "source": [
    "## ```Outline```\n",
    "\n",
    "- 長條圖\n",
    "- 直方圖\n",
    "- 折線圖\n",
    "- 圓餅圖\n",
    "- 雷射圖\n",
    "- 泡泡圖"
   ]
  },
  {
   "cell_type": "markdown",
   "metadata": {
    "slideshow": {
     "slide_type": "slide"
    }
   },
   "source": [
    "## 長條圖\n",
    "\n",
    "- 長條圖只有一個變數，通常用於較小的數據。\n",
    "- 長條圖也可以比較兩個或以上的變數差異性，如:不同時間或不同條件，如下圖。\n",
    "![長條圖](長條圖.jpg)"
   ]
  },
  {
   "cell_type": "markdown",
   "metadata": {
    "slideshow": {
     "slide_type": "slide"
    }
   },
   "source": [
    "## 直方圖\n",
    "\n",
    "- 直方圖與長條圖的差異在於，直方圖為表示一個範圍的數量；長條圖是該項目的數量。\n",
    "![直方圖](直方圖.jpg)"
   ]
  },
  {
   "cell_type": "markdown",
   "metadata": {
    "slideshow": {
     "slide_type": "slide"
    }
   },
   "source": [
    "## 折線圖\n",
    "\n",
    "- 折線圖是將數據代表描點連線，比起長條圖乾淨俐落，避免畫面太過擁擠，如下圖。\n",
    "- 折線圖通常橫坐標釋放時間，已表示隨著時間成長變數的趨勢是上漲還是下跌。\n",
    "![折線圖](折線圖.jpg)"
   ]
  },
  {
   "cell_type": "markdown",
   "metadata": {
    "slideshow": {
     "slide_type": "slide"
    }
   },
   "source": [
    "## 圓餅圖\n",
    "\n",
    "- 圓餅圖可以了解資料之間的比例關係，用於描述量、頻率、百分比之間的關係，如下圖。\n",
    "![圓餅圖](圓餅圖.jpg)"
   ]
  },
  {
   "cell_type": "markdown",
   "metadata": {
    "slideshow": {
     "slide_type": "slide"
    }
   },
   "source": [
    "## 雷射圖\n",
    "\n",
    "- 雷射圖通常用來表達能力的情形，面積越大整體能力越佳，如下圖。\n",
    "![雷射圖](雷達圖.jpg)"
   ]
  },
  {
   "cell_type": "markdown",
   "metadata": {
    "slideshow": {
     "slide_type": "slide"
    }
   },
   "source": [
    "## 泡泡圖\n",
    "\n",
    "- 泡泡圖可用來表示層級關係，也就是當類別中還有子類別時使用。"
   ]
  }
 ],
 "metadata": {
  "celltoolbar": "Slideshow",
  "kernelspec": {
   "display_name": "Python 3",
   "language": "python",
   "name": "python3"
  },
  "language_info": {
   "codemirror_mode": {
    "name": "ipython",
    "version": 3
   },
   "file_extension": ".py",
   "mimetype": "text/x-python",
   "name": "python",
   "nbconvert_exporter": "python",
   "pygments_lexer": "ipython3",
   "version": "3.6.1"
  }
 },
 "nbformat": 4,
 "nbformat_minor": 2
}
