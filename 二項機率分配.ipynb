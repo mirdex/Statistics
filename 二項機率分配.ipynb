{
 "cells": [
  {
   "cell_type": "markdown",
   "metadata": {
    "slideshow": {
     "slide_type": "slide"
    }
   },
   "source": [
    "# 二項機率分配\n",
    "\n",
    "## `Da-Wei Chiang`"
   ]
  },
  {
   "cell_type": "markdown",
   "metadata": {
    "slideshow": {
     "slide_type": "slide"
    }
   },
   "source": [
    "## 二項機率分配的特性\n",
    "\n",
    "- 每次實驗的結果只會有兩種:**正面**結果或**負面**結果\n",
    "- 正面結果產生的機率 = p；負面結果產生的機率 = 1-p\n",
    "- 每次實驗都是互不影響的獨立事件"
   ]
  },
  {
   "cell_type": "markdown",
   "metadata": {
    "slideshow": {
     "slide_type": "slide"
    }
   },
   "source": [
    "## 二項機率分配的定義\n",
    "\n",
    "- 若隨機變數X表示n次實驗中，正面出現結果的次數，同時X各個值的機率公式為$$P(X=x) = {{n!}\\over{x!(n-x!)}}p^x(1-p)^{n-x}，x=0,1,2,3,...,n$$\n",
    "其中p表示每次實驗，正面結果產生的機率"
   ]
  },
  {
   "cell_type": "markdown",
   "metadata": {
    "slideshow": {
     "slide_type": "slide"
    }
   },
   "source": [
    "## 二項機率分配之腦洞時間（1）\n",
    "\n",
    "- 若隨機變數X表示二項隨機變數，n=8, p=0.6，則X具有之二項機率分配如下\n",
    "\n",
    "$$P(X=x) = {{8!}\\over{x!(8-x!)}}0.6^x0.4^{8-x}$$\n",
    "其二項分配共有0,1,2,....,8等9種情況"
   ]
  },
  {
   "cell_type": "markdown",
   "metadata": {
    "slideshow": {
     "slide_type": "subslide"
    }
   },
   "source": [
    "## 二項機率分配之腦洞時間（2）\n",
    "\n",
    "- 若隨機變數X表示二項隨機變數，n=8, p=0.6，則X具有之二項機率分配如下\n",
    "\n",
    "$$P(X=x) = {{8!}\\over{x!(8-x!)}}0.6^x0.4^{8-x}$$\n",
    "\n",
    "    - P(X<2) = P(X = 0) + P(X = 1) = 0.0085\n",
    "    - P(X>7) = P(X = 8) = 0.1068\n",
    "    - P(1<X<4) = P(X = 2) + P(X = 3) = 0.1652"
   ]
  },
  {
   "cell_type": "markdown",
   "metadata": {
    "slideshow": {
     "slide_type": "slide"
    }
   },
   "source": [
    "## 二項機率分配之腦洞時間（1）\n",
    " \n",
    "- 某銀行放款給8家企業，由紀錄得知，過去每家企業的償付率都是0.6，另隨機變數X表示8家公司中償付銀行貸款之家數，則X屬於二項隨機變數。其機率分配為$$P(X) = {8! \\over x!(8-x!)}0.6^x0.4^{8-x}$$"
   ]
  },
  {
   "cell_type": "markdown",
   "metadata": {
    "slideshow": {
     "slide_type": "subslide"
    }
   },
   "source": [
    "## 二項機率分配之腦洞時間（2）\n",
    " \n",
    "- 某銀行放款給8家企業，由紀錄得知，過去每家企業的償付率都是0.6，另隨機變數X表示8家公司中償付銀行貸款之家數，則X屬於二項隨機變數。其機率分配為$$P(X) = {8! \\over x!(8-x!)}0.6^x0.4^{8-x}$$\n",
    "    - 只有兩家償付的機率為何?\n",
    "        - P(X=2) = 0.0413\n",
    "    - 全部償還的機率為何?\n",
    "        - P(X=8) = 0.0168\n",
    "    - 全部都不還的機率為何?\n",
    "        - P(X=0) = 0.0007"
   ]
  },
  {
   "cell_type": "markdown",
   "metadata": {
    "slideshow": {
     "slide_type": "subslide"
    }
   },
   "source": [
    "## 二項機率分配之腦洞時間（3）\n",
    "\n",
    "- 某銀行放款給8家企業，由紀錄得知，過去每家企業的償付率都是0.6，另隨機變數X表示8家公司中償付銀行貸款之家數，則X屬於二項隨機變數。其機率分配為$$P(X) = {8! \\over x!(8-x!)}0.6^x0.4^{8-x}$$\n",
    "    - 有兩家以上企業償付的機率為何?\n",
    "        - P(X >= 2) = P(X = 2) + P(X = 3) + P(X = 4) + ... + P(X = 8) = 1 - P(X < 2) = 0.9914\n",
    "    - 至少三家償付之機率為何?\n",
    "        - P(X <= 3) = P(X = 0) + P(X = 1) + P(X = 2) + P(X = 3) = 0.1738"
   ]
  },
  {
   "cell_type": "markdown",
   "metadata": {
    "slideshow": {
     "slide_type": "slide"
    }
   },
   "source": [
    "## 二項機率分配的平均數、變異數、標準差\n",
    "\n",
    "- 平均數 $\\mu = np$\n",
    "- 變異數 $\\sigma^2 = V(X) =  np(1-p)$\n",
    "- 標準差 $\\sigma = \\sqrt{\\sigma^2} = \\sqrt{V(X)} = \\sqrt{np(1-p)}$"
   ]
  },
  {
   "cell_type": "markdown",
   "metadata": {
    "slideshow": {
     "slide_type": "slide"
    }
   },
   "source": [
    "## 二項機率分配之腦洞時間（1）\n",
    "\n",
    "- 某銀行放款給8家企業，由紀錄得知，過去每家企業的償付率都是0.6，另隨機變數X表示8家公司中償付銀行貸款之家數，則X屬於二項隨機變數。\n",
    "    - 償付貸款的企業平均數\n",
    "        - $np = 8\\times0.6 = 4.8$\n",
    "    - 償付貸款的企業標準差\n",
    "        - $\\sqrt{np(1-p)} = \\sqrt{8\\times0.6\\times0.4} = 1.3856$"
   ]
  },
  {
   "cell_type": "markdown",
   "metadata": {
    "slideshow": {
     "slide_type": "subslide"
    }
   },
   "source": [
    "## 二項機率分配之腦洞時間（2）\n",
    "\n",
    "- 某銀行放款給8家企業，由紀錄得知，過去每家企業的償付率都是0.6，另隨機變數X表示8家公司中償付銀行貸款之家數，則X屬於二項隨機變數，平均數 = 4.8、標準差 = 1.3856。\n",
    "    - 償付貸款的企業數在$(\\mu - \\sigma, \\mu+\\sigma)$的比例\n",
    "        - P(3.414 < X < 6.1856) = P(X = 4) + P(X = 5) + P(X = 6) = 0.7199\n",
    "        - 所以比例約等於71.99%"
   ]
  }
 ],
 "metadata": {
  "celltoolbar": "Slideshow",
  "kernelspec": {
   "display_name": "Python 3",
   "language": "python",
   "name": "python3"
  },
  "language_info": {
   "codemirror_mode": {
    "name": "ipython",
    "version": 3
   },
   "file_extension": ".py",
   "mimetype": "text/x-python",
   "name": "python",
   "nbconvert_exporter": "python",
   "pygments_lexer": "ipython3",
   "version": "3.6.1"
  }
 },
 "nbformat": 4,
 "nbformat_minor": 2
}
