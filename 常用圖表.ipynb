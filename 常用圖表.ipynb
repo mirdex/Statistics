{
 "cells": [
  {
   "cell_type": "markdown",
   "metadata": {
    "slideshow": {
     "slide_type": "slide"
    }
   },
   "source": [
    "# 常用圖表\n",
    "\n",
    "## ```Da-Wei Chiang```"
   ]
  },
  {
   "cell_type": "markdown",
   "metadata": {
    "slideshow": {
     "slide_type": "slide"
    }
   },
   "source": [
    "## ```Outline```\n",
    "\n",
    "- 統計表\n",
    "    - 次數分配表\n",
    "    - 累加次數分配表\n",
    "- 統計圖\n",
    "    - 長條圖\n",
    "    - 直方圖\n",
    "    - 折線圖\n",
    "    - 圓餅圖\n",
    "    - 雷射圖"
   ]
  },
  {
   "cell_type": "markdown",
   "metadata": {
    "slideshow": {
     "slide_type": "slide"
    }
   },
   "source": [
    "## 統計表\n",
    "\n",
    "- 統計表的目的\n",
    "    - 使資料簡潔化、系統化，有助於對原始資料的了解與進一步分析\n",
    "- 統計表\n",
    "    - 次數分配表\n",
    "    - 累加次數分配表"
   ]
  },
  {
   "cell_type": "markdown",
   "metadata": {
    "slideshow": {
     "slide_type": "slide"
    }
   },
   "source": [
    "## 次數分配表 & 累加次數分配表 (性質資料)\n",
    "\n",
    "- Step1 : 將性質資料依類別分類\n",
    "- Step2 : 計算各組的次數，相對次數、累加相對次數，顯示各組資料的分布情形\n",
    "- 例 : 建立性別資料的次數&累加次數分配表，結果如下表所示\n",
    "\n",
    "|id|性別|職別|\n",
    "|--|---|-----|\n",
    "|m1|女|產品工程師|\n",
    "|m2|女|廠房職員|\n",
    "|m3|女|系統工程師|\n",
    "|m4|男|廠房職員|\n",
    "|m5|男|研發工程師|\n",
    "|m6|男|系統工程師|\n",
    "|m7|男|廠房職員|\n",
    "\n",
    "|性別|人數|相對人數|累加相對人數|\n",
    "|----|----|------|--------|\n",
    "|女|3|42.9%|42.9%|\n",
    "|男|4|57.1%|57.1%|\n",
    "|合計|7|100.0%|"
   ]
  },
  {
   "cell_type": "markdown",
   "metadata": {
    "slideshow": {
     "slide_type": "slide"
    }
   },
   "source": [
    "## 次數分配表 & 累加次數分配表 (數量資料)\n",
    "\n",
    "- Step1 : 決定組數。資料分組，組數多寡沒客觀標準，通常5~15組\n",
    "- Step2 : 選擇各組的上下限，需知道全體資料的範圍(全距)以及各組的範圍(組距)，後一組的下限等於前一組的上限\n",
    "- Step3 : 組中點作為各組的代表值。組中點就是各組上下限的平均值\n",
    "- Step4 : 計算各組次數、相對次數、累加相對次數"
   ]
  },
  {
   "cell_type": "markdown",
   "metadata": {
    "slideshow": {
     "slide_type": "subslide"
    }
   },
   "source": [
    "## 次數分配表 & 累加次數分配表 (數量資料)\n",
    "\n",
    "- 將下面範例建立次數分配表&累加次數分配表，組數為5組\n",
    "    - Step1 : 分5組\n",
    "    - Step2 : 下限取42、上限取82，全距=82-42=40，組距=40/5=8\n",
    "    - Step3 : 計算組中點\n",
    "    - Step4 : 各組次數、相對次數、 累加相對次數，如下表所示\n",
    "    \n",
    "|數量資料表|\n",
    "|-----------------------------|\n",
    "|44|75|80|79|74|53|78|76|79|64|\n",
    "|78|67|75|50|50|52|58|81|78|69|\n",
    "|75|79|77|78|77|79|70|73|63|69|\n",
    "\n",
    "|組別|下限|上限|組中點|次數|相對次數|累加相對次數|\n",
    "|----|----|----|----|----|------|---------|\n",
    "|1|42|50|46|3|10%|10%|\n",
    "|2|50|58|54|3|10%|20%|\n",
    "|3|58|66|62|2|7%|27%|\n",
    "|4|66|74|70|6|20%|47%|\n",
    "|5|74|82|78|16|53%|100%|\n",
    "|||||合計|30|100%|"
   ]
  },
  {
   "cell_type": "markdown",
   "metadata": {
    "slideshow": {
     "slide_type": "slide"
    }
   },
   "source": [
    "## 統計圖\n",
    "\n",
    "- 性質資料\n",
    "    - 長條圖\n",
    "    - 圓餅圖\n",
    "- 數量資料\n",
    "    - 直方圖\n",
    "    - 莖葉圖"
   ]
  },
  {
   "cell_type": "markdown",
   "metadata": {
    "slideshow": {
     "slide_type": "slide"
    }
   },
   "source": [
    "## `長條圖(bar chart)`\n",
    "\n",
    "- 長條圖表示的是類別資料的次數分配圖，因此繪製長條圖時必須先產生類別資料的次數分配表\n",
    "- 橫軸表示不同類別、縱軸表示類別次數\n",
    "- 長條圖也可以比較兩個或以上的變數差異性，如:不同時間或不同條件，如下圖。\n",
    "![長條圖](https://mirdex.github.io/Statistics/長條圖.JPG)"
   ]
  },
  {
   "cell_type": "markdown",
   "metadata": {
    "slideshow": {
     "slide_type": "slide"
    }
   },
   "source": [
    "## `圓餅圖(pie chart)`\n",
    "\n",
    "- 圓餅圖與長條圖相同，都是用來描繪類別資料的次數，因此必須先產生類別資料的次數分配\n",
    "- 圓餅圖可以了解資料之間的比例關係，用於描述量、頻率、百分比之間的關係，如下圖。\n",
    "![圓餅圖](https://mirdex.github.io/Statistics/圓餅圖.JPG)"
   ]
  },
  {
   "cell_type": "markdown",
   "metadata": {
    "slideshow": {
     "slide_type": "slide"
    }
   },
   "source": [
    "## 雷達圖\n",
    "\n",
    "- 雷達圖通常用來表達能力的情形，面積越大整體能力越佳，如下圖。\n",
    "![雷射圖](https://mirdex.github.io/Statistics/雷達圖.JPG)"
   ]
  },
  {
   "cell_type": "markdown",
   "metadata": {
    "slideshow": {
     "slide_type": "slide"
    }
   },
   "source": [
    "## `直方圖(histogram)`\n",
    "\n",
    "- 質方圖用於描繪數值資料的次數分配、累加次數分配\n",
    "- 直方圖與長條圖的差異在於，直方圖為表示一個範圍的數量；長條圖是該項目的數量。\n",
    "- 直方圖的圖形分布又可分為以下三種型態\n",
    "    - 對稱圖 : 圖形呈現對稱的樣子\n",
    "    - 右偏斜 : 圖形向左偏，右邊的尾巴比較長\n",
    "    - 左偏斜 : 圖形向右偏，左邊的尾巴比較長\n",
    "![直方圖](https://mirdex.github.io/Statistics/直方圖.JPG)"
   ]
  },
  {
   "cell_type": "markdown",
   "metadata": {
    "slideshow": {
     "slide_type": "slide"
    }
   },
   "source": [
    "## 折線圖\n",
    "\n",
    "- 折線圖是將數據代表描點連線，比起直方圖乾淨俐落，避免畫面太過擁擠，如下圖。\n",
    "- 折線圖通常橫坐標釋放時間，已表示隨著時間成長變數的趨勢是上漲還是下跌。\n",
    "![折線圖](https://mirdex.github.io/Statistics/折線圖.JPG)"
   ]
  },
  {
   "cell_type": "markdown",
   "metadata": {
    "slideshow": {
     "slide_type": "slide"
    }
   },
   "source": [
    "## `莖葉圖(stem and leaf display)`\n",
    "\n",
    "- 將原始資料排序，由最小值排列至最大值。其中橫軸為莖、縱軸為葉\n",
    "- 以下為30個國家女性平均壽命的莖葉圖\n",
    "\n",
    "|莖(10歲)|葉(1歲)|\n",
    "|-------|-------|\n",
    "|4|4|\n",
    "|5|0 0 2 3 8|\n",
    "|6|3 4 7 9 9|\n",
    "|7|0 3 4 5 5 5 6 7 7 8 8 8 8 9 9 9 9|\n",
    "|8|0 1|"
   ]
  }
 ],
 "metadata": {
  "celltoolbar": "Slideshow",
  "kernelspec": {
   "display_name": "Python 3",
   "language": "python",
   "name": "python3"
  },
  "language_info": {
   "codemirror_mode": {
    "name": "ipython",
    "version": 3
   },
   "file_extension": ".py",
   "mimetype": "text/x-python",
   "name": "python",
   "nbconvert_exporter": "python",
   "pygments_lexer": "ipython3",
   "version": "3.6.1"
  }
 },
 "nbformat": 4,
 "nbformat_minor": 2
}
