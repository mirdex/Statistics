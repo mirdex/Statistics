{
 "cells": [
  {
   "cell_type": "markdown",
   "metadata": {
    "slideshow": {
     "slide_type": "slide"
    }
   },
   "source": [
    "# 標準常態分配\n",
    "\n",
    "## `Da-Wei Chiang`"
   ]
  },
  {
   "cell_type": "markdown",
   "metadata": {
    "slideshow": {
     "slide_type": "slide"
    }
   },
   "source": [
    "## 標準常態分配\n",
    "\n",
    "- 若連續隨機變數Z具有機率密度函數\n",
    "$$f(z)={{1}\\over{\\sqrt{2\\pi}}}\\times e^{-{{z^2}\\over{2}}}$$\n",
    "\n",
    "其中 z介於正負無限大之間、e=2.71828...，pi=3.1415926...，通常會用簡單的記號Z~N(0,1)表示。其中0表示對稱於0、1表示標準差或變異數"
   ]
  },
  {
   "cell_type": "markdown",
   "metadata": {
    "slideshow": {
     "slide_type": "slide"
    }
   },
   "source": [
    "## 標準常態機率值的性質\n",
    "\n",
    "- 對稱於z=0\n",
    "- P(Z>a) = P(Z<-a)，a>0\n",
    "- P(a<Z<b)，代表的是f(z)圖形下(a,b)間的面積。P(a<X<b) = P(a <= X < b) = P(a < X <= b) = P(a <= X <= b)"
   ]
  },
  {
   "cell_type": "markdown",
   "metadata": {
    "slideshow": {
     "slide_type": "slide"
    }
   },
   "source": [
    "### 偏態\n",
    "- 偏態\n",
    "    - 並非所有的資料都呈現常態分布，還會有偏到左側或右側的情形，這種情形稱為左偏或右偏分布。\n",
    "- 偏態係數\n",
    "    - 偏態係數可以用來衡量平均值遠離大多數人數值的偏離程度。\n",
    "    - 偏態係數越大，表示曲線偏離程度越大，用平均數來描述資料就越不適合(可用中位數、四分位數)，偏態係數公式如下\n",
    "    $$sk = {{3(\\overline{x}-中位數)}\\over{s}}$$"
   ]
  },
  {
   "cell_type": "markdown",
   "metadata": {
    "slideshow": {
     "slide_type": "slide"
    }
   },
   "source": [
    "## 標準常態分配表\n",
    "![標準常態分配表](https://mirdex.github.io/Statistics/標準常態分配表.JPG)\n",
    "\n",
    "- 上面每一格代表的是P(Z>z)的機率值，如P(Z>0.21)=0.4168"
   ]
  },
  {
   "cell_type": "markdown",
   "metadata": {
    "slideshow": {
     "slide_type": "subslide"
    }
   },
   "source": [
    "## 標準常態分配表\n",
    "\n",
    "- 若常態分配表為右尾機率值，也就是P(Z>z)，其中z>0。則\n",
    "    - 求P(Z>a)的機率 = 求Z>a的面積 = 直接查表\n",
    "    - `求P(Z<a)的機率 = 求Z<a的面積 = 1-P(Z>a)`\n",
    "    - `求P(a<Z<b)的機率 = 求a<Z<b的面積 = 先查表得P(Z>b)及P(Z>a)再計算P(a<Z<b) = P(Z<b)-P(Z<a) = (1-P(Z>b))-(1-P(Z>a)) = P(Z>a)-P(Z>b)`"
   ]
  },
  {
   "cell_type": "markdown",
   "metadata": {
    "collapsed": true,
    "slideshow": {
     "slide_type": "slide"
    }
   },
   "source": [
    "## 反向的標準常態分配\n",
    "\n",
    "- 有時候會知道機率值求a值，如剛剛的範例P(Z>a)=0.4168，則a=0.21"
   ]
  }
 ],
 "metadata": {
  "celltoolbar": "Slideshow",
  "kernelspec": {
   "display_name": "Python 3",
   "language": "python",
   "name": "python3"
  },
  "language_info": {
   "codemirror_mode": {
    "name": "ipython",
    "version": 3
   },
   "file_extension": ".py",
   "mimetype": "text/x-python",
   "name": "python",
   "nbconvert_exporter": "python",
   "pygments_lexer": "ipython3",
   "version": "3.6.1"
  }
 },
 "nbformat": 4,
 "nbformat_minor": 2
}
