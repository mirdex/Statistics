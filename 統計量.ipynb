{
 "cells": [
  {
   "cell_type": "markdown",
   "metadata": {
    "slideshow": {
     "slide_type": "slide"
    }
   },
   "source": [
    "# 統計量\n",
    "\n",
    "## ```Da-Wei Chiang```"
   ]
  },
  {
   "cell_type": "markdown",
   "metadata": {
    "slideshow": {
     "slide_type": "slide"
    }
   },
   "source": [
    "## ```Outline```\n",
    "\n",
    "- 資料中最具意義的數\n",
    "    - 平均數\n",
    "        - 算術平均數\n",
    "        - 幾何平均數\n",
    "        - 加權平均數\n",
    "    - 中位數\n",
    "    - 眾數\n",
    "- 資料的離散程度\n",
    "    - 標準差\n",
    "    - 四分位數\n",
    "    - 全距\n",
    "    - 四分位距\n",
    "    - 盒狀圖"
   ]
  },
  {
   "cell_type": "markdown",
   "metadata": {
    "slideshow": {
     "slide_type": "slide"
    }
   },
   "source": [
    "### 資料中最具意義的數\n",
    "\n",
    "- 平均數\n",
    "    - 算術平均數\n",
    "    - 幾何平均數\n",
    "    - 加權平均數\n",
    "- 中位數\n",
    "- 眾數"
   ]
  },
  {
   "cell_type": "markdown",
   "metadata": {
    "slideshow": {
     "slide_type": "subslide"
    }
   },
   "source": [
    "- 算術平均數\n",
    "    - 數據總和除以數量\n",
    "    $$\\overline{X} = {{x_1+x_2+x_3+...+x_n}\\over{n}}$$\n",
    "    - 算術平均數易受極端值影響"
   ]
  },
  {
   "cell_type": "markdown",
   "metadata": {
    "slideshow": {
     "slide_type": "subslide"
    }
   },
   "source": [
    "- 幾何平均數\n",
    "    - 變化率的平均值，是以連乘積在開根號\n",
    "    $$\\overline{X} = \\sqrt{x_1 \\times x_2 \\times x_3 \\times ...\\times x_n}$$"
   ]
  },
  {
   "cell_type": "markdown",
   "metadata": {
    "slideshow": {
     "slide_type": "subslide"
    }
   },
   "source": [
    "- 加權平均數\n",
    "    - 若每個數值為$x_1,x_2,x_3,...,x_n$，其對應的數量(權重)為$w_1,w_2,w_3,...,w_n$則加權總數為$\\sum\\limits_{i=1}^n{w_1x_i}$\n",
    "    加權平均數為$$\\overline{x_w} = {{\\sum\\limits_{i=1}^n{w_1x_i}}\\over{\\sum\\limits_{i=1}^n{w_i}}}$$"
   ]
  },
  {
   "cell_type": "markdown",
   "metadata": {
    "slideshow": {
     "slide_type": "subslide"
    }
   },
   "source": [
    "- 中位數\n",
    "    - 一組數據中，如果個別數據有很大變動(如M型曲線)，則使用中位數則較為適合。\n",
    "    - 中位數是數據中最中間的數，若是偶數則取中間兩數的平均。\n",
    "    - 當資料受極端值影響時，平均值並不適合描述此組數據，但中位數卻可以貼近實際情況。"
   ]
  },
  {
   "cell_type": "markdown",
   "metadata": {
    "slideshow": {
     "slide_type": "subslide"
    }
   },
   "source": [
    "- 眾數\n",
    "    - 數據中數量最多的數，大多數情況不會用到此數據。\n",
    "    - 眾數的用法是資料並沒有明顯的次序時使用。\n",
    "    - 眾數用於代表數據量較多時使用，且眾數不易受極端值影響。"
   ]
  },
  {
   "cell_type": "markdown",
   "metadata": {
    "slideshow": {
     "slide_type": "slide"
    }
   },
   "source": [
    "### 資料的離散程度\n",
    "\n",
    "- 離散程度\n",
    "    - 變異數\n",
    "    - 標準差\n",
    "    - 四分位數\n",
    "    - 全距\n",
    "    - 四分位距\n",
    "    - 盒狀圖\n",
    "- 衡量分散程度的統計摘要\n",
    "    - 變異係數"
   ]
  },
  {
   "cell_type": "markdown",
   "metadata": {
    "slideshow": {
     "slide_type": "subslide"
    }
   },
   "source": [
    "- 變異數\n",
    "    - 討論數據分散程度的第一個方式是變異數，又分為母體變異數$\\sigma^2$與樣本變異數$S^2$。\n",
    "    - 變異數的計算是藉由平均數計算各資料間與平均數的距離做推斷\n",
    "    - 變異數公式如下\n",
    "    $${\\sum\\limits_{i=1}^n(x_i-\\overline{x})^2} \\over n-1$$\n",
    "    - 其中\n",
    "    $${\\sum\\limits_{i=1}^n(x_i-\\overline{x})^2} = \\sum\\limits_{i=1}^n x_i^2 - n\\overline{x}^2 $$"
   ]
  },
  {
   "cell_type": "markdown",
   "metadata": {
    "slideshow": {
     "slide_type": "subslide"
    }
   },
   "source": [
    "- 標準差\n",
    "    - 通常標準差是泛指樣本標準差$S$；母體標準差$\\sigma$是統計的理想狀態，由樣本標準差推得。\n",
    "    - 標準差的計算意義與方式是計算各資料點離平均的距離$x_i-\\overline{x}$計算出離平均的差值(離差)在平均\n",
    "    - 由於$x_i-\\overline{x}$有可能是負數，導致總誤差變小，所以要將離差平方$(x_i-\\overline{x})^2$\n",
    "    - 母體標準差、樣本標準差的公式是由變異數開根號獲得，如下\n",
    "    $$\\sigma = {\\sqrt{\\sigma^2}}$$ $$S = {\\sqrt{S^2}}$$\n",
    "    - 標準差越小，表示資料越集中；標準差越大，表示資料越分散"
   ]
  },
  {
   "cell_type": "markdown",
   "metadata": {
    "slideshow": {
     "slide_type": "subslide"
    }
   },
   "source": [
    "- 四分位數\n",
    "    - 將「排序後」的數據分為四份，故有三個等分點；這三個點稱為第一四分位數$Q_1$、第二四分位數$Q_2$、第三四分位數$Q_3$\n",
    "    - 換句話說中位數即為四分位數的分隔點$Q_2$\n",
    "    - 為了方便計算與尋找數據，故定義$Q_1 = {1\\over4} n$、$Q_2 = {2\\over4} n$、$Q_3 = {3\\over4} n$；其中n為整體數據數量\n",
    "    - 例:$1000$筆資料，$Q_1=250$、$Q_2=500$、$Q_3=750$"
   ]
  },
  {
   "cell_type": "markdown",
   "metadata": {
    "slideshow": {
     "slide_type": "subslide"
    }
   },
   "source": [
    "- 全距\n",
    "    - 數據中最大減最小的數值即為全距\n",
    "    - 全距不見得有意義，如果出現極端值時，將不能代表距離性"
   ]
  },
  {
   "cell_type": "markdown",
   "metadata": {
    "slideshow": {
     "slide_type": "subslide"
    }
   },
   "source": [
    "- 四分位距\n",
    "    - 四分位數中的$Q_3-Q_1$即為四分位距\n",
    "    - 相較於全距，四分位距比較不受極端值影響"
   ]
  },
  {
   "cell_type": "markdown",
   "metadata": {
    "slideshow": {
     "slide_type": "subslide"
    }
   },
   "source": [
    "- 盒狀圖\n",
    "    - 盒狀圖是利用四分位數所畫出的圖形，可直接觀察$Q_1$、$Q_2$(中位數)、$Q_3$、全距、四分位距\n",
    "    - 若$Q_2$接近$Q_3$代表資料左偏；若$Q_2$接近$Q_1$則代表資料右偏"
   ]
  },
  {
   "cell_type": "markdown",
   "metadata": {
    "slideshow": {
     "slide_type": "slide"
    }
   },
   "source": [
    "## 衡量分散程度的統計摘要\n",
    "\n",
    "- 變異係數\n",
    "    - 比較兩資料間的分散差異，公式如下\n",
    "    \n",
    "$$CV = {S \\over {\\overline{X}}} \\times 100\\%$$"
   ]
  }
 ],
 "metadata": {
  "celltoolbar": "Slideshow",
  "kernelspec": {
   "display_name": "Python 3",
   "language": "python",
   "name": "python3"
  },
  "language_info": {
   "codemirror_mode": {
    "name": "ipython",
    "version": 3
   },
   "file_extension": ".py",
   "mimetype": "text/x-python",
   "name": "python",
   "nbconvert_exporter": "python",
   "pygments_lexer": "ipython3",
   "version": "3.6.1"
  }
 },
 "nbformat": 4,
 "nbformat_minor": 2
}
