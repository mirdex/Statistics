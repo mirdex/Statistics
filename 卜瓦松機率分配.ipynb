{
 "cells": [
  {
   "cell_type": "markdown",
   "metadata": {
    "slideshow": {
     "slide_type": "slide"
    }
   },
   "source": [
    "# 卜瓦松機率分配\n",
    "\n",
    "## `Da-Wei Chiang`"
   ]
  },
  {
   "cell_type": "markdown",
   "metadata": {
    "slideshow": {
     "slide_type": "slide"
    }
   },
   "source": [
    "## 卜瓦松機率分配的特性\n",
    "\n",
    "- 有一段連續的測驗區間\n",
    "- 在這段連續測驗區間中，某事件的產生是互不影響的\n",
    "- 在不同時段的測驗區間，某事件的產生是互不影響的\n",
    "- 在這段連續測驗區間，某事件的平均產生次數必須是已知的"
   ]
  },
  {
   "cell_type": "markdown",
   "metadata": {
    "slideshow": {
     "slide_type": "slide"
    }
   },
   "source": [
    "## 卜瓦松機率分配的定義\n",
    "\n",
    "- 卜瓦松隨機變數`(Poisson random variable)`\n",
    "    - 若隨機變數X表示一段時間裡，某種現象產生的次數，同時X的個別值x的機率公式為\n",
    "    $$P(X = x) = {{e^{-\\lambda}\\lambda^x}\\over {x!}}，x = 0,1,2,...\\infty$$\n",
    "    - 其中$\\lambda$表示這段時間哩，該現象的平均產生次數，稱為平均參數值；$e = 2.71828$，稱為自然指數值"
   ]
  },
  {
   "cell_type": "markdown",
   "metadata": {
    "slideshow": {
     "slide_type": "slide"
    }
   },
   "source": [
    "## 卜瓦松機率分配的平均數、變異數、標準差\n",
    "\n",
    "- 平均數 : $\\mu = E(X) = \\lambda$\n",
    "- 變異數 : $\\sigma^2 = V(X) = \\lambda$\n",
    "- 標準差 : $\\sigma = \\sqrt{\\sigma^2} = \\sqrt{V(X)} = \\sqrt\\lambda$"
   ]
  },
  {
   "cell_type": "markdown",
   "metadata": {
    "slideshow": {
     "slide_type": "slide"
    }
   },
   "source": [
    "## 卜瓦松機率分配的機率分配表\n",
    "\n",
    "- 卜瓦松機率分配通常會有對應的一張表(由公式計算得來)，可以省去計算的功夫(若表上沒有擇自己計算)\n",
    "- ![](https://mirdex.github.io/Statistics/卜瓦松機率分配表.JPG)\n",
    "- 如:$x = 4、\\lambda = 1.50$時，卜瓦松機率分配的值為P(x = 4) = 0.0471"
   ]
  },
  {
   "cell_type": "markdown",
   "metadata": {
    "slideshow": {
     "slide_type": "slide"
    }
   },
   "source": [
    "## 卜瓦松機率分配之腦洞時間（1）\n",
    "\n",
    "- 銀行在12:00~13:00，使用提款機的客戶平均為3人/分鐘(表示$\\lambda = 3$)，則\n",
    "    - 1分鐘內，洽有2人使用之機率為何?\n",
    "    - 1分鐘內，至少有2人使用之機率為何?\n",
    "    - 2分鐘內，洽有2人使用之機率為何?\n",
    "    - 3分鐘內，至多有2人使用之機率為何?\n",
    "    "
   ]
  },
  {
   "cell_type": "markdown",
   "metadata": {
    "slideshow": {
     "slide_type": "subslide"
    }
   },
   "source": [
    "## 卜瓦松機率分配之腦洞時間（2）\n",
    "- 銀行在12:00~13:00，使用提款機的客戶平均為3人/分鐘\n",
    "    - 設隨機變數X:每分鐘使用提款機的人數，這是一個卜瓦松分布\n",
    "    - 該卜瓦松機率分布的函數為\n",
    "    $$P(X=x) ={{e^{-\\lambda}\\lambda^x} \\over {x!}} = {{e^{-3}3^x} \\over {x!}}，x = 0,1,2,...$$"
   ]
  },
  {
   "cell_type": "markdown",
   "metadata": {
    "slideshow": {
     "slide_type": "subslide"
    }
   },
   "source": [
    "## 卜瓦松機率分配之腦洞時間（3）\n",
    "\n",
    "- 銀行在12:00~13:00，使用提款機的客戶平均為3人/分鐘(表示 λ=3)，則\n",
    "    - 1分鐘內，洽有2人(表示x=2)使用之機率為何?\n",
    "        - P(X = 2) = 0.224\n",
    "    - 1分鐘內，至少有2人使用之機率為何?\n",
    "        - P(X >= 2) = 1 - P(X < 2) = 1-(0.0498-0.1494) = 0.1992\n",
    "    - 2分鐘內，洽有2人使用之機率為何?\n",
    "        - 2分鐘平均為6人($\\lambda = 6$)，P(X = 2) = 0.0446\n",
    "    - 3分鐘內，至多有2人使用之機率為何?\n",
    "        - 3分鐘平均為9人($\\lambda = 9$)，P(X<=2) = P(X=0)+P(X=1)+P(X=2) = 0.0062"
   ]
  },
  {
   "cell_type": "markdown",
   "metadata": {
    "slideshow": {
     "slide_type": "slide"
    }
   },
   "source": [
    "## 卜瓦松機率分配之腦洞時間（1）\n",
    "- 大學生使用行動電話，平均通話數為3通/1天($\\lambda = 3$)。隨機變數X表示一天中，大學生行動電話之通話數，X屬於卜瓦松分配。問\n",
    "    - 每小時的平均通話數為何?\n",
    "        - 3/24 = 0.125\n",
    "    - 99%的大學生每天的行動電話通話數為何?\n",
    "        - 標準差 = 1.732(因為變異數=3)，99% = 3倍標準差 = 5.196\n",
    "        - 99%表示資料的範圍介於[3+-5.196] = (-2.196,8.196)，表示每天通話數最多為8通"
   ]
  },
  {
   "cell_type": "markdown",
   "metadata": {
    "slideshow": {
     "slide_type": "subslide"
    }
   },
   "source": [
    "## 卜瓦松機率分配之腦洞時間（2）\n",
    "- 每4小時恰好打一通行動電話的機率為何?\n",
    "    - 每4小時的平均通話數 = 3/6 = 0.5\n",
    "    - 4小時恰好打一通的機率為$\\lambda=0.5，P(X=1)=0.3033$\n",
    "- 每12小時通話數在2至5通的機率為何?\n",
    "    - 每12小時的平均通話數 = 3/2 = 1.5(表示$\\lambda = 1.5$)\n",
    "    - P(2 <= X <= 5) = 0.2510+0.1255+0.0471 + 0.0141 = 0.4377"
   ]
  },
  {
   "cell_type": "markdown",
   "metadata": {
    "slideshow": {
     "slide_type": "slide"
    }
   },
   "source": [
    "## 卜瓦松機率分配之腦洞時間（1）\n",
    "\n",
    "- 某雜誌任一頁排印的平均錯字為2(表示$\\lambda = 2$)，則\n",
    "    - 在下一頁中，有0個錯字的機率為何?\n",
    "        - $P(X=0) = 0.1353$\n",
    "    - 在下一頁中，有3個或更多錯字的機率為何?\n",
    "        - $P(X>=3) = 1- P(X<=2) = 0.3232$"
   ]
  },
  {
   "cell_type": "markdown",
   "metadata": {
    "slideshow": {
     "slide_type": "slide"
    }
   },
   "source": [
    "## 卜瓦松機率分配之腦洞時間（1）\n",
    "\n",
    "- 校園每週被拋棄的腳踏車平均數量為7輛(表示$\\lambda = 7$)，則\n",
    "    - 明天沒有腳踏車被拋棄的機率為何?\n",
    "        - 平均一天被拋棄的腳踏車數量為7/7=1($\\lambda = 1$)\n",
    "        - P(X = 0) = 0.3679\n",
    "    - 下一星期至少有2輛腳踏車被拋棄的機率為何?\n",
    "        - $\\lambda = 7$，P(X >= 2) = 1 - P(X = 0) - P(X = 1) = 1-0.0009-0.0064 = 0.9927"
   ]
  }
 ],
 "metadata": {
  "celltoolbar": "Slideshow",
  "kernelspec": {
   "display_name": "Python 3",
   "language": "python",
   "name": "python3"
  },
  "language_info": {
   "codemirror_mode": {
    "name": "ipython",
    "version": 3
   },
   "file_extension": ".py",
   "mimetype": "text/x-python",
   "name": "python",
   "nbconvert_exporter": "python",
   "pygments_lexer": "ipython3",
   "version": "3.6.1"
  }
 },
 "nbformat": 4,
 "nbformat_minor": 2
}
