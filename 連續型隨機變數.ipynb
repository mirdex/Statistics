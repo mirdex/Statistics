{
 "cells": [
  {
   "cell_type": "markdown",
   "metadata": {
    "slideshow": {
     "slide_type": "slide"
    }
   },
   "source": [
    "# 連續隨機變數\n",
    "\n",
    "## `Da-Wei Chiang`"
   ]
  },
  {
   "cell_type": "markdown",
   "metadata": {
    "slideshow": {
     "slide_type": "slide"
    }
   },
   "source": [
    "## 連續隨機變數的定義\n",
    "\n",
    "- 連續隨機變數的變數值，是產生一段不可數的範圍、變數值的個數是無限多個\n",
    "- 例 : 飲料的容量(0<=x<=500)\n",
    "- 例 : 大學生畢業的起薪(20000<=x<=28000)"
   ]
  },
  {
   "cell_type": "markdown",
   "metadata": {
    "slideshow": {
     "slide_type": "slide"
    }
   },
   "source": [
    "## 連續隨機變數的特性\n",
    "\n",
    "- 連續隨機變數的單一數值為a的發生機率值**必定等於零**\n",
    "    - $P(X=a)=0$，當X為連續隨機變數\n",
    "- 在一段特定範圍內的機率值是存在的，要計算一段特定範圍的機率值，須利用「機率密度函數」。\n",
    "- 機率密度函數下的面積 = 機率"
   ]
  },
  {
   "cell_type": "markdown",
   "metadata": {
    "slideshow": {
     "slide_type": "slide"
    }
   },
   "source": [
    "## 連續隨機變數的機率密度函數\n",
    "\n",
    "- 若函數$f(x)$是連續隨機變數的機率密度函數，則$f(x)$具有以下特性\n",
    "    - $f(x)\\geq 0$，且$y=f(x)$之圖形為平滑曲線\n",
    "    - $y=f(x)$之曲線下，所涵蓋的面積等於1以積分的表示法，則為$\\int_{-\\infty}^\\infty f(x)dx = 1$"
   ]
  },
  {
   "cell_type": "markdown",
   "metadata": {
    "slideshow": {
     "slide_type": "slide"
    }
   },
   "source": [
    "## 連續隨機變數值在特定範圍的機率\n",
    "\n",
    "- 連續隨機變數X，其值在$c\\leq d$間產生的機率，記為$P(c \\leq X \\leq d)$，表示的是機率密度函數f(x)曲線圖形下方[c,d]範圍間的面積，其中0<P(c $\\leq$ X $\\leq$ d)<1\n",
    "- 從上面這個定義來說\n",
    "    - P(X=c) = 0\n",
    "    - P(X=d) = 0\n",
    "    - P(c<X<d)= P(c $\\leq$ X < d) = P(c < X $\\leq$ d) = P(c $\\leq$ X $\\leq$ d)"
   ]
  },
  {
   "cell_type": "markdown",
   "metadata": {
    "slideshow": {
     "slide_type": "slide"
    }
   },
   "source": [
    "## 常見的機率密度函數曲線\n",
    "\n",
    "- 他們共通的特性為:x軸上方所涵蓋的面積為1\n",
    "![常見的連續隨機變數圖形](https://mirdex.github.io/Statistics/常見的連續隨機變數圖形.JPG)"
   ]
  },
  {
   "cell_type": "markdown",
   "metadata": {
    "slideshow": {
     "slide_type": "slide"
    }
   },
   "source": [
    "## 連續隨機變數的機率求解問題\n",
    "\n",
    "- 計算機率密度函數下的某段面積\n",
    "    - 當連續隨機變數的機率密度函數是常見的**(標準常態分配)**時，複雜的求面積過程，就可以省略，轉換成「查表格」的方式"
   ]
  },
  {
   "cell_type": "markdown",
   "metadata": {
    "slideshow": {
     "slide_type": "slide"
    }
   },
   "source": [
    "## 淺談標準常態分配（1）\n",
    "\n",
    "- 若連續隨機變數Z具有機率密度函數$$f(z) = { 1 \\over{\\sqrt {2\\pi}}} \\times e^{- {z^2 \\over 2}}，-\\infty < z < \\infty$$，其中e=2.71828...、$\\pi$=3.1415926...，通常用簡單記號$Z \\approx N(0,1)$"
   ]
  },
  {
   "cell_type": "markdown",
   "metadata": {
    "slideshow": {
     "slide_type": "subslide"
    }
   },
   "source": [
    "## 淺談標準常態分配（2）\n",
    "\n",
    "- 中間點對稱於z=0\n",
    "- 以z=0分界的左右方機率值個為0.5"
   ]
  }
 ],
 "metadata": {
  "celltoolbar": "Slideshow",
  "kernelspec": {
   "display_name": "Python 3",
   "language": "python",
   "name": "python3"
  },
  "language_info": {
   "codemirror_mode": {
    "name": "ipython",
    "version": 3
   },
   "file_extension": ".py",
   "mimetype": "text/x-python",
   "name": "python",
   "nbconvert_exporter": "python",
   "pygments_lexer": "ipython3",
   "version": "3.6.1"
  }
 },
 "nbformat": 4,
 "nbformat_minor": 2
}
