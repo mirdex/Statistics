{
 "cells": [
  {
   "cell_type": "markdown",
   "metadata": {
    "slideshow": {
     "slide_type": "slide"
    }
   },
   "source": [
    "# 經驗法則\n",
    "\n",
    "## `Da-Wei Chiang`"
   ]
  },
  {
   "cell_type": "markdown",
   "metadata": {
    "slideshow": {
     "slide_type": "slide"
    }
   },
   "source": [
    "## `Outline`\n",
    " - 資料分布的經驗法則\n",
    " - 排序資料的四分位數"
   ]
  },
  {
   "cell_type": "markdown",
   "metadata": {
    "slideshow": {
     "slide_type": "slide"
    }
   },
   "source": [
    "## `經驗法則（1）`\n",
    "\n",
    "- 以常態分布(對稱分布)為基準\n",
    "- 經驗法則說明了母體平均數與母體標準差所產生界線及其所涵蓋的範圍"
   ]
  },
  {
   "cell_type": "markdown",
   "metadata": {
    "slideshow": {
     "slide_type": "subslide"
    }
   },
   "source": [
    "## `經驗法則（2）`\n",
    "\n",
    "- 樣本資料只能得知樣本平均數$\\overline{X}$以及樣本標準差$S$\n",
    "- 利用鐘型的常態分配說明$68.26\\%$、$95.44\\%$、$99.74\\%$的資料範圍"
   ]
  },
  {
   "cell_type": "markdown",
   "metadata": {
    "slideshow": {
     "slide_type": "subslide"
    }
   },
   "source": [
    "## `經驗法則（3）`\n",
    "\n",
    "- 常態分布的$\\overline{X}$位於資料中間\n",
    "- 資料範圍位於$\\overline{X}-S$ ～ $\\overline{X}+S$有$68.26\\%$ (通常是說平均數加減一倍標準差)\n",
    "- 資料範圍位於$\\overline{X}-2S$ ～ $\\overline{X}+2S$有$95.44\\%$ (通常是說平均數加減兩倍標準差)\n",
    "- 資料範圍位於$\\overline{X}-3S$ ～ $\\overline{X}+3S$有$99.74\\%$ (通常是說平均數加減三倍標準差)"
   ]
  },
  {
   "cell_type": "markdown",
   "metadata": {
    "slideshow": {
     "slide_type": "subslide"
    }
   },
   "source": [
    "## `經驗法則之腦洞時間`\n",
    "\n",
    "- 30個國家女性平均壽命樣本平均數為70，樣本標準差為10.77，利用經驗法則找出涵蓋95%的資料範圍\n",
    "- ANS：95%為平均數加減2倍標準差，所以答案為[70-2$\\times$10.77，70+2$\\times$10.77] = [48.46，91.54]\n"
   ]
  },
  {
   "cell_type": "markdown",
   "metadata": {
    "slideshow": {
     "slide_type": "slide"
    }
   },
   "source": [
    "## 四分位數`（1）`\n",
    "\n",
    "- 四分位數是指將資料分為4個部分，如下\n",
    "\n",
    "```\n",
    "|----25%----|----25%----|----25%----|----25%----|\n",
    "            Q1          Q2          Q3\n",
    "\n",
    "```\n",
    "- Q1表第一四分位數，Q1以下資料有25%\n",
    "- Q2表第二四分位數，Q2以下資料有50%\n",
    "- Q3表第三四分位數，Q3以下資料有75%"
   ]
  },
  {
   "cell_type": "markdown",
   "metadata": {
    "slideshow": {
     "slide_type": "subslide"
    }
   },
   "source": [
    "## 四分位數`（2）`\n",
    "- 四分位數的計算步驟\n",
    "    - Step1 : 將資料由小到大排序\n",
    "    - Step2 : 找出中位數(Q2)\n",
    "    - Step3 : 在小於中位數(Q2)的資料中，找出這一部分的中位數(Q1)\n",
    "    - Step4 : 在大於中位數(Q2)的資料中，找出這一部分的中位數(Q3)"
   ]
  },
  {
   "cell_type": "markdown",
   "metadata": {
    "slideshow": {
     "slide_type": "subslide"
    }
   },
   "source": [
    "## 四分位數`（3）`\n",
    "- 中位數 = 第二個四分位數\n",
    "- Q1所在的位置 = 全部資料數$\\times$ 0.25\n",
    "- Q3所在的位置 = 全部資料數$\\times$ 0.75\n",
    "- 四分位距 = Q3-Q1\n",
    "- 四分位距表示資料中間的50%"
   ]
  },
  {
   "cell_type": "markdown",
   "metadata": {
    "slideshow": {
     "slide_type": "subslide"
    }
   },
   "source": [
    "## 四分位數之腦洞時間\n",
    "- 假定有30個國家女性平均壽命，並計算三個四分位數的位置\n",
    "    - Q1的位置為 : 30$\\times$0.25=7.5 (計算出來的值只是位置，7.5表示Q1為排序後第7個數與第8個數的平均)\n",
    "    - Q2的位置為 : 30$\\times$0.5=15   (Q2表示排序後第15個位置的數)\n",
    "    - Q3的位置為 : 30$\\times$0.75=22.5"
   ]
  }
 ],
 "metadata": {
  "celltoolbar": "Slideshow",
  "kernelspec": {
   "display_name": "Python 3",
   "language": "python",
   "name": "python3"
  },
  "language_info": {
   "codemirror_mode": {
    "name": "ipython",
    "version": 3
   },
   "file_extension": ".py",
   "mimetype": "text/x-python",
   "name": "python",
   "nbconvert_exporter": "python",
   "pygments_lexer": "ipython3",
   "version": "3.6.1"
  }
 },
 "nbformat": 4,
 "nbformat_minor": 2
}
