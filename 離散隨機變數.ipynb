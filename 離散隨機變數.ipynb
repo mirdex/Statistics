{
 "cells": [
  {
   "cell_type": "markdown",
   "metadata": {
    "slideshow": {
     "slide_type": "slide"
    }
   },
   "source": [
    "# 離散隨機變數\n",
    "\n",
    "## `Da-Wei Chiang`"
   ]
  },
  {
   "cell_type": "markdown",
   "metadata": {
    "slideshow": {
     "slide_type": "slide"
    }
   },
   "source": [
    "## 隨機變數\n",
    "\n",
    "- 隨機變數:\n",
    "    - 一種描述方式，用來簡化事件的敘述，可作為變數間數值的運算\n",
    "    - 將樣本空間中的元素依某特性對應到某一實數值，通常以大寫英文字母表示。\n",
    "    - 隨間變數對應的應變數值不只一個，通常以小寫英文字母表示\n",
    "- 隨機變數可分為以下兩種\n",
    "    - 離散隨機變數\n",
    "    - 連續隨機變數"
   ]
  },
  {
   "cell_type": "markdown",
   "metadata": {
    "slideshow": {
     "slide_type": "subslide"
    }
   },
   "source": [
    "## 離散隨機變數（1）\n",
    "\n",
    "- 離散隨機變數值發生的機率\n",
    "    - 若離散隨機變數X，具有變數值a；則 X = a 表示某一個定事件，其發生的比率稱為機率值，以$P(X = a)$表示\n",
    "- 離散隨機變數的機率分配\n",
    "    - 將離散隨機變數所對應的所有可能值$x_1, x_2, ..., x_n$以及這些值對照的唯一機率值$P(X=x_i)$以表格形式表示，稱為離散機率分配。其中$\\sum\\limits_{i=1}^{n}P(X=x_i)=1$"
   ]
  },
  {
   "cell_type": "markdown",
   "metadata": {
    "slideshow": {
     "slide_type": "subslide"
    }
   },
   "source": [
    "## 離散隨機變數（2）\n",
    "\n",
    "- 離散隨機變數的期望值(平均數)\n",
    "    - 假定離散隨機變數的機率分配如下\n",
    "    $$P(X=x_1)、P(X=x_2)...P(X=x_n)$$\n",
    "    則X的期望值表示為$E(X)$，計算公式為$$E(X) = \\sum\\limits_{x=i}^{n}(x_i\\times P(X=x_i))$$"
   ]
  },
  {
   "cell_type": "markdown",
   "metadata": {
    "slideshow": {
     "slide_type": "subslide"
    }
   },
   "source": [
    "## 離散隨機變數（3）\n",
    "\n",
    "- 離散隨機變數的變異數\n",
    "    - 假定離散隨機變數的機率分配如下\n",
    "    $$P(X=x_1)、P(X=x_2)...P(X=x_n)$$\n",
    "    則X的變異數表示為$V(X)$，計算公式為$$V(X) = \\sum\\limits_{x=i}^{n}((x_i - E(X))^2\\times P(X=x_i))$$\n",
    "- 離散隨機變數的標準差\n",
    "    $$\\sqrt {V(X)}$$"
   ]
  },
  {
   "cell_type": "markdown",
   "metadata": {
    "slideshow": {
     "slide_type": "subslide"
    }
   },
   "source": [
    "## 離散隨機變數（4）\n",
    "\n",
    "- 離散隨機變數標準差與變異數\n",
    "    - 常用表示法\n",
    "        - 變異數 : 以$\\sigma^2$表示，$\\sigma^2 = V(X)$\n",
    "        - 標準差 : 以$\\sigma$表示，$\\sigma = \\sqrt\\sigma^2 = \\sqrt{V(X)}$\n",
    "    - 標準差意義\n",
    "        - 表示資料的離散程度"
   ]
  },
  {
   "cell_type": "markdown",
   "metadata": {
    "slideshow": {
     "slide_type": "subslide"
    }
   },
   "source": [
    "## 離散隨機變數（5）\n",
    "\n",
    "- 離散機率值得常見種類\n",
    "    - $P(X=x)$ : 隨機變數X等於x的機率直\n",
    "    - $P(X\\leq x)$ : 隨機變數X小於等於x的機率值，$P(X\\leq x) = P(X=0)+...+P(X=x)$\n",
    "    - $P(X < x)$ : 隨機變數X小於x的機率值，$P(X < x) = P(X=0)+...+P(X=x-1)$\n",
    "    - $P(X > x)$ : 隨機變數X大於x的機率值，$P(X > x) = 1-P(X\\leq x)$\n",
    "    - $P(a\\leq X\\leq b)$ : 隨機變數X介於[a,b]間之機率值，$P(a \\leq X \\leq b)=P(X \\leq b)-P(X < a)$"
   ]
  },
  {
   "cell_type": "markdown",
   "metadata": {
    "slideshow": {
     "slide_type": "slide"
    }
   },
   "source": [
    "## 離散隨機變數之腦洞時間（1）\n",
    "\n",
    "- 擲一個銅板兩次\n",
    "    - 事件A1 : 正面數=0的情況\n",
    "    - 事件A2 : 正面數=1的情況\n",
    "    - 事件A3 : 正面數=2的情況\n",
    "- 令隨機變數X表示正面出現的次數，X的值可以有3種，其機率如下:\n",
    "    - $P(X=0)=P(A1)= {1 \\over 4}$\n",
    "    - $P(X=1)=P(A2)= {2 \\over 4}$\n",
    "    - $P(X=2)=P(A3)= {1 \\over 4}$\n",
    "- 該例子的機率分配如下，其機率總合為1\n",
    "\n",
    "|x|0|1|2|\n",
    "|-----|------|----|-----|\n",
    "|P(X=x) |$P(X=0)={1 \\over 4}$|$P(X=1)={2 \\over 4}$|$P(X=2)={1 \\over 4}$|\n"
   ]
  },
  {
   "cell_type": "markdown",
   "metadata": {
    "slideshow": {
     "slide_type": "subslide"
    }
   },
   "source": [
    "## 離散隨機變數之腦洞時間（2）\n",
    "\n",
    "|x|0|1|2|\n",
    "|-----|------|----|-----|\n",
    "|P(X=x) |$P(X=0)={1 \\over 4}$|$P(X=1)={2 \\over 4}$|$P(X=2)={1 \\over 4}$|\n",
    "\n",
    "- 該例子的期望值為$$E(X) = \\sum\\limits_{x=i}^{n}(x_i\\times P(X=x_i)) = {{0\\times 1 + 0 \\times 2 + 2 \\times 1} \\over {4}} = 1$$\n",
    "\n",
    "- 期望值的意義\n",
    "    - 正面出現的平均次數=1"
   ]
  },
  {
   "cell_type": "markdown",
   "metadata": {
    "slideshow": {
     "slide_type": "subslide"
    }
   },
   "source": [
    "## 離散隨機變數之腦洞時間（3）\n",
    "\n",
    "|x|0|1|2|\n",
    "|-----|------|----|-----|\n",
    "|P(X=x) |$P(X=0)={1 \\over 4}$|$P(X=1)={2 \\over 4}$|$P(X=2)={1 \\over 4}$|\n",
    "\n",
    "- 該例的變異數為$\\sigma ^2=V(X) = \\sum\\limits_{x=i}^{n}((x_i - E(X))^2\\times P(X=x_i)) = {{(0-1)^2 \\times 1 + (1-1)^2 \\times 2 + (2-1)^2 \\times 1} \\over {4}}= {2 \\over 4} = 0.5$\n",
    "- 標準差為$\\sigma = \\sqrt{V(X)} = \\sqrt {0.5} = 0.707$，表示正面出現次數的離散程度為0.707"
   ]
  }
 ],
 "metadata": {
  "celltoolbar": "Slideshow",
  "kernelspec": {
   "display_name": "Python 3",
   "language": "python",
   "name": "python3"
  },
  "language_info": {
   "codemirror_mode": {
    "name": "ipython",
    "version": 3
   },
   "file_extension": ".py",
   "mimetype": "text/x-python",
   "name": "python",
   "nbconvert_exporter": "python",
   "pygments_lexer": "ipython3",
   "version": "3.6.1"
  }
 },
 "nbformat": 4,
 "nbformat_minor": 2
}
